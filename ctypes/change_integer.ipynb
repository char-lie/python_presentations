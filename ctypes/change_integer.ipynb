{
 "cells": [
  {
   "cell_type": "markdown",
   "metadata": {
    "slideshow": {
     "slide_type": "slide"
    }
   },
   "source": [
    "# Basic example\n",
    "\n",
    "Multiplication of two integer numbers is pretty simple.\n",
    "Additional information can be got from Python [documentation](https://docs.python.org/3/library/ctypes.html)."
   ]
  },
  {
   "cell_type": "markdown",
   "metadata": {
    "slideshow": {
     "slide_type": "subslide"
    }
   },
   "source": [
    "## Write C code\n",
    "\n",
    "We want to multiply two integers and get integer as the result\n",
    "```c\n",
    "int mul(int a, int b) {\n",
    "    return a * b;\n",
    "}\n",
    "```\n",
    "\n",
    "Notice, that it's not mandatory to have `main` entry point function"
   ]
  },
  {
   "cell_type": "markdown",
   "metadata": {
    "slideshow": {
     "slide_type": "subslide"
    }
   },
   "source": [
    "You should specify that function is written in `C` and needs to be exported to compile DLL in Visual Studio and use it with `ctypes`\n",
    "\n",
    "```c\n",
    "#ifdef __cplusplus\n",
    "extern \"C\" {\n",
    "#endif\n",
    "__declspec(dllexport) int mul(int a, int b) {\n",
    "\n",
    "    return a * b;\n",
    "\n",
    "}\n",
    "#ifdef __cplusplus\n",
    "}\n",
    "#endif\n",
    "```\n"
   ]
  },
  {
   "cell_type": "markdown",
   "metadata": {
    "slideshow": {
     "slide_type": "subslide"
    }
   },
   "source": [
    "## Compile shared library (dll in Windows)\n",
    "\n",
    "```bash\n",
    "gcc -shared basics.c -o lib_basics.so\n",
    "```"
   ]
  },
  {
   "cell_type": "markdown",
   "metadata": {
    "slideshow": {
     "slide_type": "subslide"
    }
   },
   "source": [
    "## Load created library in Python code"
   ]
  },
  {
   "cell_type": "code",
   "execution_count": 1,
   "metadata": {
    "collapsed": true
   },
   "outputs": [],
   "source": [
    "from ctypes import cdll"
   ]
  },
  {
   "cell_type": "markdown",
   "metadata": {
    "slideshow": {
     "slide_type": "fragment"
    }
   },
   "source": [
    "### In Linux"
   ]
  },
  {
   "cell_type": "code",
   "execution_count": 2,
   "metadata": {
    "collapsed": true
   },
   "outputs": [],
   "source": [
    "basics = cdll.LoadLibrary('./lib_basics.so')"
   ]
  },
  {
   "cell_type": "markdown",
   "metadata": {
    "slideshow": {
     "slide_type": "fragment"
    }
   },
   "source": [
    "### In Windows\n",
    "```python\n",
    "basics = cdll.LoadLibrary('lib_basics.dll')\n",
    "```"
   ]
  },
  {
   "cell_type": "markdown",
   "metadata": {
    "slideshow": {
     "slide_type": "subslide"
    }
   },
   "source": [
    "## Usage\n",
    "\n",
    "Now it's pretty simple to call `mul` function just like it was a property of module `basics`"
   ]
  },
  {
   "cell_type": "code",
   "execution_count": 3,
   "metadata": {
    "collapsed": false
   },
   "outputs": [
    {
     "data": {
      "text/plain": [
       "10"
      ]
     },
     "execution_count": 3,
     "metadata": {},
     "output_type": "execute_result"
    }
   ],
   "source": [
    "basics.mul(2, 5)"
   ]
  },
  {
   "cell_type": "markdown",
   "metadata": {
    "slideshow": {
     "slide_type": "fragment"
    }
   },
   "source": [
    "See? It's easy"
   ]
  },
  {
   "cell_type": "markdown",
   "metadata": {
    "slideshow": {
     "slide_type": "slide"
    }
   },
   "source": [
    "# Dot product of two arrays\n",
    "\n",
    "Array is a block of memory splitted into chunks of a single type and it's easy to use C arrays with `ctypes`"
   ]
  },
  {
   "cell_type": "markdown",
   "metadata": {
    "slideshow": {
     "slide_type": "subslide"
    }
   },
   "source": [
    "## C function\n",
    "\n",
    "Just iterate through each element of arrays, multiply corresponding ones and summarize the result\n",
    "```c\n",
    "#include <stdlib.h>\n",
    "\n",
    "int dot(int *a, int *b, size_t length) {\n",
    "    int result = 0;\n",
    "    while (length --> 0) {\n",
    "        result += a[length] * b[length];\n",
    "    }\n",
    "    return result;\n",
    "}\n",
    "```"
   ]
  },
  {
   "cell_type": "markdown",
   "metadata": {
    "slideshow": {
     "slide_type": "subslide"
    }
   },
   "source": [
    "## Create arrays\n",
    "\n",
    "We should import `int` data type from `ctypes`"
   ]
  },
  {
   "cell_type": "code",
   "execution_count": 4,
   "metadata": {
    "collapsed": false,
    "slideshow": {
     "slide_type": "fragment"
    }
   },
   "outputs": [],
   "source": [
    "from ctypes import c_int"
   ]
  },
  {
   "cell_type": "markdown",
   "metadata": {
    "slideshow": {
     "slide_type": "fragment"
    }
   },
   "source": [
    "Say, it's needed to multiply 3-dimensional vectors"
   ]
  },
  {
   "cell_type": "code",
   "execution_count": 5,
   "metadata": {
    "collapsed": true,
    "slideshow": {
     "slide_type": "-"
    }
   },
   "outputs": [],
   "source": [
    "first = (c_int * 3)(1, 2, 3)"
   ]
  },
  {
   "cell_type": "markdown",
   "metadata": {
    "slideshow": {
     "slide_type": "fragment"
    }
   },
   "source": [
    "We can create an alias for this data type and use it"
   ]
  },
  {
   "cell_type": "code",
   "execution_count": 6,
   "metadata": {
    "collapsed": false
   },
   "outputs": [],
   "source": [
    "vector3D = c_int * 3\n",
    "second = vector3D(4, 5, 6)"
   ]
  },
  {
   "cell_type": "markdown",
   "metadata": {
    "slideshow": {
     "slide_type": "subslide"
    }
   },
   "source": [
    "## Call the function"
   ]
  },
  {
   "cell_type": "code",
   "execution_count": 7,
   "metadata": {
    "collapsed": false
   },
   "outputs": [
    {
     "name": "stdout",
     "output_type": "stream",
     "text": [
      "C returned 32 and Python returned 32\n"
     ]
    }
   ],
   "source": [
    "c_result = basics.dot(first, second, 3)\n",
    "python_result = sum(a * b for a, b in zip([1, 2, 3], [4, 5, 6]))\n",
    "print('C returned', c_result, 'and Python returned', python_result)"
   ]
  },
  {
   "cell_type": "code",
   "execution_count": 8,
   "metadata": {
    "collapsed": false,
    "slideshow": {
     "slide_type": "fragment"
    }
   },
   "outputs": [
    {
     "data": {
      "text/plain": [
       "6"
      ]
     },
     "execution_count": 8,
     "metadata": {},
     "output_type": "execute_result"
    }
   ],
   "source": [
    "basics.dot((c_int*1)(2), (c_int*1)(*[3]), 1)"
   ]
  },
  {
   "cell_type": "markdown",
   "metadata": {
    "slideshow": {
     "slide_type": "subslide"
    }
   },
   "source": [
    "Following examples will cause errors"
   ]
  },
  {
   "cell_type": "code",
   "execution_count": 9,
   "metadata": {
    "collapsed": false
   },
   "outputs": [
    {
     "name": "stdout",
     "output_type": "stream",
     "text": [
      "You cannot pass lists\n",
      "Forbidden to provide more elements than it should accept\n"
     ]
    }
   ],
   "source": [
    "try:\n",
    "    vector3D([1, 2, 3])\n",
    "except:\n",
    "    print('You cannot pass lists')\n",
    "try:\n",
    "    vector3D(0, 1, 2, 3)\n",
    "except:\n",
    "    print('Forbidden to provide more elements than it should accept')   "
   ]
  },
  {
   "cell_type": "markdown",
   "metadata": {
    "slideshow": {
     "slide_type": "slide"
    }
   },
   "source": [
    "# Available types\n",
    "\n",
    "Following types can be used to pass arguments to `C` functions\n",
    "\n",
    "| ctypes       | type                                    | C type  Python type |\n",
    "| -----------  | --------------------------------------  | ------------------- |\n",
    "| c_bool       | _Bool                                   | bool (1) |\n",
    "| c_char       | char                                    | 1-character bytes object |\n",
    "| c_wchar      | wchar_t                                 | 1-character string |\n",
    "| c_byte       | char                                    | int |\n",
    "| c_ubyte      | unsigned                                | char   int |\n",
    "| c_short      | short                                   | int |\n",
    "| c_ushort     | unsigned                                | short  int |\n",
    "| c_int        | int                                     | int |\n",
    "| c_uint       | unsigned                                | int    int |\n",
    "| c_long       | long                                    | int |"
   ]
  },
  {
   "cell_type": "markdown",
   "metadata": {
    "slideshow": {
     "slide_type": "subslide"
    }
   },
   "source": [
    "| ctypes       | type                                    | C type  Python type |\n",
    "| -----------  | --------------------------------------  | ------------------- |\n",
    "| c_ulong      | unsigned long                           | int |\n",
    "| c_longlong   | __int64 or long long                    | int |\n",
    "| c_ulonglong  | unsigned __int64 or unsigned long long  | int |\n",
    "| c_size_t     | size_t                                  | int |\n",
    "| c_ssize_t    | ssize_t or Py_ssize_t                   | int |\n",
    "| c_float      | float                                   | float |\n",
    "| c_double     | double                                  | float |\n",
    "| c_longdouble | long double                             | float |\n",
    "| c_char_p     | char * (NUL terminated)                 | bytes object or None |\n",
    "| c_wchar_p    | wchar_t * (NUL terminated)              | string or None |\n",
    "| c_void_p     | void *                                  | int or None |"
   ]
  },
  {
   "cell_type": "markdown",
   "metadata": {
    "slideshow": {
     "slide_type": "slide"
    }
   },
   "source": [
    "# Change the long passed to your function\n",
    "\n",
    "Long number in Python represented as an array of longs:\n",
    "```\n",
    "{d0, d1, d2, ...}\n",
    "```\n",
    "\n",
    "We can change each one of them, so why not?\n",
    "\n",
    "Read the [documentation](https://docs.python.org/3/c-api/index.html) about `Python` API for `C`."
   ]
  },
  {
   "cell_type": "markdown",
   "metadata": {
    "slideshow": {
     "slide_type": "subslide"
    }
   },
   "source": [
    "## Prepare shared library\n",
    "\n",
    "C function:\n",
    "```c\n",
    "#include <Python.h>\n",
    "\n",
    "int set_long(PyLongObject* o, long new_value,\n",
    "\n",
    "             size_t digit) {\n",
    "             \n",
    "    o->ob_digit[digit] = new_value;\n",
    "    \n",
    "    return 0;\n",
    "}\n",
    "```"
   ]
  },
  {
   "cell_type": "markdown",
   "metadata": {
    "slideshow": {
     "slide_type": "subslide"
    }
   },
   "source": [
    "File should be compiled to shared library (dll in Windows).\n",
    "\n",
    "Makefile for Linux:\n",
    "```\n",
    "FLAGS=-shared\n",
    "LIBRARIES=-I/usr/include/python3.4\n",
    "BUILD_LIBRARY=gcc $(FLAGS) $(LIBRARIES)\n",
    "all:\n",
    "    $(BUILD_LIBRARY) setters.c -o lib_setters.so\n",
    "```"
   ]
  },
  {
   "cell_type": "markdown",
   "metadata": {
    "slideshow": {
     "slide_type": "slide"
    }
   },
   "source": [
    "## Use shared library\n",
    "\n",
    "It's handy to create Python wrapper for this C function"
   ]
  },
  {
   "cell_type": "code",
   "execution_count": 10,
   "metadata": {
    "collapsed": true,
    "slideshow": {
     "slide_type": "-"
    }
   },
   "outputs": [],
   "source": [
    "from ctypes import cdll, c_long, c_size_t, c_voidp\n",
    "\n",
    "setters = cdll.LoadLibrary('./lib_setters.so')\n",
    "\n",
    "def change_long(a, b=0, digit=0):\n",
    "    setters.set_long(c_voidp(id(a)), c_long(b), c_size_t(digit))"
   ]
  },
  {
   "cell_type": "markdown",
   "metadata": {
    "slideshow": {
     "slide_type": "subslide"
    }
   },
   "source": [
    "Don't forget, that Python interpreter will not create new objects for little integers like `0`, so we should avoid assigning of new values to such numbers, because they will be changed in all places where they're used"
   ]
  },
  {
   "cell_type": "code",
   "execution_count": 11,
   "metadata": {
    "collapsed": false,
    "slideshow": {
     "slide_type": "fragment"
    }
   },
   "outputs": [],
   "source": [
    "from ctypes import c_long, c_size_t, c_voidp\n",
    "\n",
    "def change_long(a, b=0, digit=0):\n",
    "    args = (a, b, digit)\n",
    "    if not all(type(a) is int for a in args):\n",
    "        raise TypeError('All parameters should be of type \"int\", '\n",
    "                        'but {} provided'.format(map(type, args)))\n",
    "    if a + 0 is a:\n",
    "        raise ValueError('No way. You don\\'t want to break '\n",
    "                         'your interpreter, right?')\n",
    "    setters.set_long(c_voidp(id(a)), c_long(b), c_size_t(digit))"
   ]
  },
  {
   "cell_type": "markdown",
   "metadata": {
    "slideshow": {
     "slide_type": "subslide"
    }
   },
   "source": [
    "Let's recall, that we cannot change the value of integers inside Python functions"
   ]
  },
  {
   "cell_type": "code",
   "execution_count": 12,
   "metadata": {
    "collapsed": false,
    "slideshow": {
     "slide_type": "fragment"
    }
   },
   "outputs": [
    {
     "name": "stdout",
     "output_type": "stream",
     "text": [
      "     Before function call     : 0x400 (0x7fac6ccd0f70)\n",
      "     After function call      : 0x400 (0x7fac6ccd0f70)\n"
     ]
    }
   ],
   "source": [
    "def variable_info(text, variable):\n",
    "    print('{:^30}: {:#05x} ({:#x})'.format(text, variable, id(variable)))\n",
    "\n",
    "def foo(a, new_value):\n",
    "    a = new_value\n",
    "\n",
    "a = 2**10\n",
    "variable_info('Before function call', a)\n",
    "foo(a, 5)\n",
    "variable_info('After function call', a)"
   ]
  },
  {
   "cell_type": "markdown",
   "metadata": {
    "slideshow": {
     "slide_type": "subslide"
    }
   },
   "source": [
    "Now forget it and take a look on what we've done"
   ]
  },
  {
   "cell_type": "code",
   "execution_count": 13,
   "metadata": {
    "collapsed": false,
    "slideshow": {
     "slide_type": "fragment"
    }
   },
   "outputs": [
    {
     "name": "stdout",
     "output_type": "stream",
     "text": [
      "     Before function call     : 0x400 (0x7fac6ccd02d0)\n",
      "     After function call      : 0x002 (0x7fac6ccd02d0)\n",
      "  What's about b? Here it is  : 0x002 (0x7fac6ccd02d0)\n"
     ]
    }
   ],
   "source": [
    "a = 2**10\n",
    "b = a\n",
    "variable_info('Before function call', a)\n",
    "change_long(a, 2, 0)\n",
    "variable_info('After function call', a)\n",
    "variable_info('What\\'s about b? Here it is', b)"
   ]
  },
  {
   "cell_type": "markdown",
   "metadata": {
    "slideshow": {
     "slide_type": "fragment"
    }
   },
   "source": [
    "![hahaha](./lied.jpg)"
   ]
  },
  {
   "cell_type": "markdown",
   "metadata": {
    "slideshow": {
     "slide_type": "slide"
    }
   },
   "source": [
    "# Cross product\n",
    "\n",
    "| i | j | k |\n",
    "|---|---|---|\n",
    "|ux |uy |uz |\n",
    "|vx |vy |vz |\n",
    "\n",
    "![Cross product](./cross.png)"
   ]
  },
  {
   "cell_type": "code",
   "execution_count": 14,
   "metadata": {
    "collapsed": true
   },
   "outputs": [],
   "source": [
    "from numpy import array, cross\n",
    "\n",
    "basis = [\n",
    "    [1, 0, 0],\n",
    "    [0, 1, 0],\n",
    "    [0, 0, 1]\n",
    "]"
   ]
  },
  {
   "cell_type": "markdown",
   "metadata": {
    "slideshow": {
     "slide_type": "subslide"
    }
   },
   "source": [
    "## Plain Python"
   ]
  },
  {
   "cell_type": "code",
   "execution_count": 15,
   "metadata": {
    "collapsed": false
   },
   "outputs": [
    {
     "data": {
      "text/plain": [
       "[0, 0, 1]"
      ]
     },
     "execution_count": 15,
     "metadata": {},
     "output_type": "execute_result"
    }
   ],
   "source": [
    "def py_cross(u, v):\n",
    "    return [\n",
    "        u[1] * v[2] - u[2] * v[1],\n",
    "        u[2] * v[0] - u[0] * v[2],\n",
    "        u[0] * v[1] - u[1] * v[0]\n",
    "    ]\n",
    "\n",
    "py_cross(basis[0], basis[1])"
   ]
  },
  {
   "cell_type": "markdown",
   "metadata": {
    "slideshow": {
     "slide_type": "subslide"
    }
   },
   "source": [
    "## NumPy"
   ]
  },
  {
   "cell_type": "code",
   "execution_count": 16,
   "metadata": {
    "collapsed": false
   },
   "outputs": [
    {
     "data": {
      "text/plain": [
       "array([0, 0, 1])"
      ]
     },
     "execution_count": 16,
     "metadata": {},
     "output_type": "execute_result"
    }
   ],
   "source": [
    "cross(array(basis[0]), array(basis[1]))"
   ]
  },
  {
   "cell_type": "markdown",
   "metadata": {
    "slideshow": {
     "slide_type": "subslide"
    }
   },
   "source": [
    "## C\n",
    "\n",
    "It's better not to create new array in `C`, but to provide resulting one to store result in it\n",
    "```c\n",
    "int cross(float* u, float* v, float* w) {\n",
    "    w[0] = u[1] * v[2] - u[2] * v[1];\n",
    "    w[1] = u[2] * v[0] - u[0] * v[2];\n",
    "    w[2] = u[0] * v[1] - u[1] * v[0];\n",
    "    return 0;\n",
    "}\n",
    "\n",
    "```"
   ]
  },
  {
   "cell_type": "code",
   "execution_count": 17,
   "metadata": {
    "collapsed": false,
    "slideshow": {
     "slide_type": "subslide"
    }
   },
   "outputs": [
    {
     "name": "stdout",
     "output_type": "stream",
     "text": [
      "[ 0.  0.  1.]\n"
     ]
    }
   ],
   "source": [
    "from ctypes import cdll\n",
    "from numpy import empty_like\n",
    "\n",
    "c_cross = cdll.LoadLibrary('./lib_cross.so')\n",
    "u = array(basis[0]).astype('f')\n",
    "v = array(basis[1]).astype('f')\n",
    "w = empty_like(u)\n",
    "\n",
    "def cross_wrapper(u, v, w):\n",
    "    return c_cross.cross(u.ctypes.get_as_parameter(),\n",
    "                         v.ctypes.get_as_parameter(),\n",
    "                         w.ctypes.get_as_parameter())\n",
    "\n",
    "cross_wrapper(u, v, w)\n",
    "print(w)"
   ]
  },
  {
   "cell_type": "markdown",
   "metadata": {
    "slideshow": {
     "slide_type": "slide"
    }
   },
   "source": [
    "# Let's run performance tests"
   ]
  },
  {
   "cell_type": "code",
   "execution_count": 18,
   "metadata": {
    "collapsed": false
   },
   "outputs": [
    {
     "name": "stdout",
     "output_type": "stream",
     "text": [
      "Vectors u: [[ 0.78028202  0.93556505  0.68736547]\n",
      " [ 0.55792838  0.51500559  0.7040332 ]\n",
      " [ 0.90751541  0.958561    0.9576624 ]\n",
      " ..., \n",
      " [ 0.54255736  0.23605387  0.73498017]\n",
      " [ 0.15223685  0.49756163  0.40691996]\n",
      " [ 0.81158608  0.64280111  0.90144485]]\n"
     ]
    }
   ],
   "source": [
    "from numpy.random import rand\n",
    "\n",
    "BIG_ENOUGH_INTEGER = int(1E5)\n",
    "\n",
    "vectors_u = rand(BIG_ENOUGH_INTEGER, 3).astype('f')\n",
    "vectors_v = rand(BIG_ENOUGH_INTEGER, 3).astype('f')\n",
    "\n",
    "print('Vectors u:', vectors_u)"
   ]
  },
  {
   "cell_type": "code",
   "execution_count": 19,
   "metadata": {
    "collapsed": false,
    "slideshow": {
     "slide_type": "subslide"
    }
   },
   "outputs": [
    {
     "name": "stdout",
     "output_type": "stream",
     "text": [
      "1 loop, best of 3: 412 ms per loop\n"
     ]
    }
   ],
   "source": [
    "%%timeit\n",
    "for i in range(BIG_ENOUGH_INTEGER):\n",
    "    py_cross(vectors_u[i], vectors_v[i])"
   ]
  },
  {
   "cell_type": "code",
   "execution_count": 20,
   "metadata": {
    "collapsed": false
   },
   "outputs": [
    {
     "name": "stdout",
     "output_type": "stream",
     "text": [
      "100 loops, best of 3: 2.51 ms per loop\n"
     ]
    }
   ],
   "source": [
    "%%timeit\n",
    "cross(vectors_u, vectors_v)"
   ]
  },
  {
   "cell_type": "code",
   "execution_count": 21,
   "metadata": {
    "collapsed": false
   },
   "outputs": [
    {
     "name": "stdout",
     "output_type": "stream",
     "text": [
      "1 loop, best of 3: 3.31 s per loop\n"
     ]
    }
   ],
   "source": [
    "%%timeit\n",
    "vectors_w = empty_like(vectors_u)\n",
    "\n",
    "for i in range(BIG_ENOUGH_INTEGER):\n",
    "    cross_wrapper(vectors_u[i], vectors_v[i], vectors_w[i])"
   ]
  },
  {
   "cell_type": "markdown",
   "metadata": {
    "slideshow": {
     "slide_type": "subslide"
    }
   },
   "source": [
    "## Are calculations right?"
   ]
  },
  {
   "cell_type": "code",
   "execution_count": 22,
   "metadata": {
    "collapsed": false
   },
   "outputs": [
    {
     "name": "stdout",
     "output_type": "stream",
     "text": [
      "True\n",
      "True\n"
     ]
    }
   ],
   "source": [
    "from numpy import allclose\n",
    "\n",
    "np_result = cross(vectors_u, vectors_v)\n",
    "\n",
    "py_result = [py_cross(vectors_u[i], vectors_v[i])\n",
    "             for i in range(BIG_ENOUGH_INTEGER)]\n",
    "print(allclose(np_result, py_result))\n",
    "\n",
    "vectors_w = empty_like(vectors_u)\n",
    "assert sum([cross_wrapper(vectors_u[i], vectors_v[i], vectors_w[i])\n",
    "            for i in range(BIG_ENOUGH_INTEGER)]) == 0\n",
    "print(allclose(np_result, vectors_w))\n"
   ]
  },
  {
   "cell_type": "markdown",
   "metadata": {
    "slideshow": {
     "slide_type": "slide"
    }
   },
   "source": [
    "## NumPy versus human: final battle\n",
    "\n",
    "What we've done wrong? `C` code should be faster! Maybe `Python` loop is an issue?\n",
    "```c\n",
    "int cross_vectors(float *u, float *v, float *w,\n",
    "                  size_t amount) {\n",
    "\n",
    "    while(amount --> 0) {\n",
    "        cross(&u[amount * 3], &v[amount * 3],\n",
    "              &w[amount * 3]);\n",
    "    }\n",
    "}\n",
    "```"
   ]
  },
  {
   "cell_type": "markdown",
   "metadata": {
    "slideshow": {
     "slide_type": "subslide"
    }
   },
   "source": [
    "It's better to compile with optimization. Also to use `-fPIC` flag to avoid following compilation error\n",
    "```\n",
    "relocation against symbol `cross' can not be used when making a shared object\n",
    "```\n",
    "What we get:\n",
    "```\n",
    "gcc -shared -fPIC cross.c -O3 -o lib_cross.so\n",
    "```"
   ]
  },
  {
   "cell_type": "markdown",
   "metadata": {
    "slideshow": {
     "slide_type": "subslide"
    }
   },
   "source": [
    "Numpy arrays are flattened when got as `C` arrays.\n",
    "Also `len` operator returns amount of rows of matrix. If you want to get summary amount of elements, you should use `size` property."
   ]
  },
  {
   "cell_type": "code",
   "execution_count": 23,
   "metadata": {
    "collapsed": false,
    "slideshow": {
     "slide_type": "-"
    }
   },
   "outputs": [],
   "source": [
    "vectors_w = empty_like(vectors_u)\n",
    "\n",
    "c_vectors_u = vectors_u.ctypes.get_as_parameter()\n",
    "c_vectors_v = vectors_v.ctypes.get_as_parameter()\n",
    "c_vectors_w = vectors_w.ctypes.get_as_parameter()"
   ]
  },
  {
   "cell_type": "code",
   "execution_count": 24,
   "metadata": {
    "collapsed": false
   },
   "outputs": [
    {
     "name": "stdout",
     "output_type": "stream",
     "text": [
      "1000 loops, best of 3: 646 µs per loop\n"
     ]
    }
   ],
   "source": [
    "%%timeit\n",
    "vectors_w = empty_like(vectors_u)\n",
    "\n",
    "c_vectors_w = vectors_w.ctypes.get_as_parameter()\n",
    "c_cross.cross_vectors(c_vectors_u, c_vectors_v, c_vectors_w, len(vectors_u))"
   ]
  },
  {
   "cell_type": "code",
   "execution_count": 25,
   "metadata": {
    "collapsed": false,
    "slideshow": {
     "slide_type": "subslide"
    }
   },
   "outputs": [
    {
     "name": "stdout",
     "output_type": "stream",
     "text": [
      "True\n"
     ]
    }
   ],
   "source": [
    "c_cross.cross_vectors(c_vectors_u, c_vectors_v, c_vectors_w, len(vectors_u))\n",
    "print(allclose(np_result, vectors_w))"
   ]
  },
  {
   "cell_type": "markdown",
   "metadata": {
    "slideshow": {
     "slide_type": "fragment"
    }
   },
   "source": [
    "Are you surprised?"
   ]
  }
 ],
 "metadata": {
  "celltoolbar": "Slideshow",
  "kernelspec": {
   "display_name": "Python 3",
   "language": "python",
   "name": "python3"
  },
  "language_info": {
   "codemirror_mode": {
    "name": "ipython",
    "version": 3
   },
   "file_extension": ".py",
   "mimetype": "text/x-python",
   "name": "python",
   "nbconvert_exporter": "python",
   "pygments_lexer": "ipython3",
   "version": "3.5.1"
  },
  "widgets": {
   "state": {},
   "version": "1.1.2"
  }
 },
 "nbformat": 4,
 "nbformat_minor": 0
}
