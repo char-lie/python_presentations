{
 "cells": [
  {
   "cell_type": "markdown",
   "metadata": {
    "slideshow": {
     "slide_type": "slide"
    }
   },
   "source": [
    "# Basic example\n",
    "\n",
    "Multiplication of two integer numbers is pretty simple.\n",
    "Additional information can be got from [documentation](https://docs.python.org/3/library/ctypes.html)."
   ]
  },
  {
   "cell_type": "markdown",
   "metadata": {
    "slideshow": {
     "slide_type": "subslide"
    }
   },
   "source": [
    "## Write C code\n",
    "\n",
    "We want to multiply two integers and get integer as the result\n",
    "```c\n",
    "int mul(int a, int b) {\n",
    "    return a * b;\n",
    "}\n",
    "```\n",
    "\n",
    "Notice, that it's not mandatory to have `main` entry point function"
   ]
  },
  {
   "cell_type": "markdown",
   "metadata": {
    "slideshow": {
     "slide_type": "subslide"
    }
   },
   "source": [
    "## Compile shared library (dll in Windows)\n",
    "\n",
    "```bash\n",
    "gcc -shared basics.c -o lib_basics.so\n",
    "```"
   ]
  },
  {
   "cell_type": "markdown",
   "metadata": {
    "slideshow": {
     "slide_type": "subslide"
    }
   },
   "source": [
    "## Load created library in Python code"
   ]
  },
  {
   "cell_type": "code",
   "execution_count": 5,
   "metadata": {
    "collapsed": true
   },
   "outputs": [],
   "source": [
    "from ctypes import cdll\n",
    "\n",
    "basics = cdll.LoadLibrary('./lib_basics.so')"
   ]
  },
  {
   "cell_type": "markdown",
   "metadata": {
    "slideshow": {
     "slide_type": "subslide"
    }
   },
   "source": [
    "## Usage\n",
    "\n",
    "Now it's pretty simple to call `mul` function just like it was a property of module `setters`"
   ]
  },
  {
   "cell_type": "code",
   "execution_count": 9,
   "metadata": {
    "collapsed": false
   },
   "outputs": [
    {
     "data": {
      "text/plain": [
       "10"
      ]
     },
     "execution_count": 9,
     "metadata": {},
     "output_type": "execute_result"
    }
   ],
   "source": [
    "basics.mul(2, 5)"
   ]
  },
  {
   "cell_type": "markdown",
   "metadata": {
    "slideshow": {
     "slide_type": "fragment"
    }
   },
   "source": [
    "See? It's easy"
   ]
  },
  {
   "cell_type": "markdown",
   "metadata": {
    "slideshow": {
     "slide_type": "slide"
    }
   },
   "source": [
    "# Change the long passed to your function\n",
    "\n",
    "Long number in Python represented as an array of longs:\n",
    "```\n",
    "{d0, d1, d2, ...}\n",
    "```\n",
    "\n",
    "We can change each one of them, so why not?"
   ]
  },
  {
   "cell_type": "markdown",
   "metadata": {
    "slideshow": {
     "slide_type": "subslide"
    }
   },
   "source": [
    "## Prepare shared library\n",
    "\n",
    "C function:\n",
    "```c\n",
    "#include <Python.h>\n",
    "\n",
    "int set_long(PyLongObject* o, long new_value,\n",
    "\n",
    "             size_t digit) {\n",
    "             \n",
    "    o->ob_digit[digit] = new_value;\n",
    "    \n",
    "    return 0;\n",
    "}\n",
    "```"
   ]
  },
  {
   "cell_type": "markdown",
   "metadata": {
    "slideshow": {
     "slide_type": "subslide"
    }
   },
   "source": [
    "File should be compiled to shared library (dll in Windows).\n",
    "\n",
    "Makefile for Linux:\n",
    "```\n",
    "FLAGS=-shared\n",
    "LIBRARIES=-I/usr/include/python3.4\n",
    "BUILD_LIBRARY=gcc $(FLAGS) $(LIBRARIES)\n",
    "all:\n",
    "    $(BUILD_LIBRARY) setters.c -o lib_setters.so\n",
    "```"
   ]
  },
  {
   "cell_type": "markdown",
   "metadata": {
    "slideshow": {
     "slide_type": "slide"
    }
   },
   "source": [
    "## Use shared library\n",
    "\n",
    "Load the library"
   ]
  },
  {
   "cell_type": "code",
   "execution_count": 8,
   "metadata": {
    "collapsed": false,
    "slideshow": {
     "slide_type": "-"
    }
   },
   "outputs": [],
   "source": [
    "from ctypes import cdll\n",
    "\n",
    "setters = cdll.LoadLibrary('./lib_setters.so')"
   ]
  },
  {
   "cell_type": "markdown",
   "metadata": {
    "slideshow": {
     "slide_type": "subslide"
    }
   },
   "source": [
    "It's handy to create our own Python wrapper for this C function"
   ]
  },
  {
   "cell_type": "code",
   "execution_count": 2,
   "metadata": {
    "collapsed": true,
    "slideshow": {
     "slide_type": "-"
    }
   },
   "outputs": [],
   "source": [
    "from ctypes import c_long, c_size_t, c_voidp\n",
    "\n",
    "def change_long(a, b=0, digit=0):\n",
    "    setters.set_long(c_voidp(id(a)), c_long(b), c_size_t(digit))"
   ]
  },
  {
   "cell_type": "markdown",
   "metadata": {
    "slideshow": {
     "slide_type": "subslide"
    }
   },
   "source": [
    "Don't forget, that Python interpreter will not create new objects for little integers like `0`, so we should avoid assigning of new values to such numbers, because they will be changed in all places where they're used"
   ]
  },
  {
   "cell_type": "code",
   "execution_count": 3,
   "metadata": {
    "collapsed": false,
    "slideshow": {
     "slide_type": "fragment"
    }
   },
   "outputs": [],
   "source": [
    "from ctypes import c_long, c_size_t, c_voidp\n",
    "\n",
    "def change_long(a, b=0, digit=0):\n",
    "    args = (a, b, digit)\n",
    "    if not all(type(a) is int for a in args):\n",
    "        raise TypeError('All parameters should be of type \"int\", '\n",
    "                        'but {} provided'.format(map(type, args)))\n",
    "    if a + 0 is a:\n",
    "        raise ValueError('No way. You don\\'t want to break '\n",
    "                         'your interpreter, right?')\n",
    "    setters.set_long(c_voidp(id(a)), c_long(b), c_size_t(digit))"
   ]
  },
  {
   "cell_type": "markdown",
   "metadata": {
    "slideshow": {
     "slide_type": "subslide"
    }
   },
   "source": [
    "Let's recall, that we cannot change the value of integers inside of Python functions"
   ]
  },
  {
   "cell_type": "code",
   "execution_count": 4,
   "metadata": {
    "collapsed": false,
    "slideshow": {
     "slide_type": "fragment"
    }
   },
   "outputs": [
    {
     "name": "stdout",
     "output_type": "stream",
     "text": [
      "     Before function call     : 0x400 (0x7fd100877f50)\n",
      "     After function call      : 0x400 (0x7fd100877f50)\n"
     ]
    }
   ],
   "source": [
    "def variable_info(text, variable):\n",
    "    print('{:^30}: {:#05x} ({:#x})'.format(text, variable, id(variable)))\n",
    "\n",
    "def foo(a, new_value):\n",
    "    a = new_value\n",
    "\n",
    "a = 2**10\n",
    "variable_info('Before function call', a)\n",
    "foo(a, 5)\n",
    "variable_info('After function call', a)"
   ]
  },
  {
   "cell_type": "markdown",
   "metadata": {
    "slideshow": {
     "slide_type": "subslide"
    }
   },
   "source": [
    "Now forget it and take a look on what we've done"
   ]
  },
  {
   "cell_type": "code",
   "execution_count": 5,
   "metadata": {
    "collapsed": false,
    "slideshow": {
     "slide_type": "fragment"
    }
   },
   "outputs": [
    {
     "name": "stdout",
     "output_type": "stream",
     "text": [
      "     Before function call     : 0x400 (0x7fd100877e30)\n",
      "     After function call      : 0x002 (0x7fd100877e30)\n",
      "  What's about b? Here it is  : 0x002 (0x7fd100877e30)\n"
     ]
    }
   ],
   "source": [
    "a = 2**10\n",
    "b = a\n",
    "variable_info('Before function call', a)\n",
    "change_long(a, 2, 0)\n",
    "variable_info('After function call', a)\n",
    "variable_info('What\\'s about b? Here it is', b)"
   ]
  },
  {
   "cell_type": "markdown",
   "metadata": {
    "slideshow": {
     "slide_type": "fragment"
    }
   },
   "source": [
    "![hahaha](./lied.jpg)"
   ]
  }
 ],
 "metadata": {
  "celltoolbar": "Slideshow",
  "kernelspec": {
   "display_name": "Python 3",
   "language": "python",
   "name": "python3"
  },
  "language_info": {
   "codemirror_mode": {
    "name": "ipython",
    "version": 3
   },
   "file_extension": ".py",
   "mimetype": "text/x-python",
   "name": "python",
   "nbconvert_exporter": "python",
   "pygments_lexer": "ipython3",
   "version": "3.5.1"
  },
  "widgets": {
   "state": {},
   "version": "1.1.2"
  }
 },
 "nbformat": 4,
 "nbformat_minor": 0
}
