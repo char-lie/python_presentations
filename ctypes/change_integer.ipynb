{
 "cells": [
  {
   "cell_type": "markdown",
   "metadata": {
    "slideshow": {
     "slide_type": "slide"
    }
   },
   "source": [
    "# Basic example\n",
    "\n",
    "Multiplication of two integer numbers is pretty simple.\n",
    "Additional information can be got from Python [documentation](https://docs.python.org/3/library/ctypes.html)."
   ]
  },
  {
   "cell_type": "markdown",
   "metadata": {
    "slideshow": {
     "slide_type": "subslide"
    }
   },
   "source": [
    "## Write C code\n",
    "\n",
    "We want to multiply two integers and get integer as the result\n",
    "```c\n",
    "int mul(int a, int b) {\n",
    "    return a * b;\n",
    "}\n",
    "```\n",
    "\n",
    "Notice, that it's not mandatory to have `main` entry point function"
   ]
  },
  {
   "cell_type": "markdown",
   "metadata": {
    "slideshow": {
     "slide_type": "subslide"
    }
   },
   "source": [
    "## Compile shared library (dll in Windows)\n",
    "\n",
    "```bash\n",
    "gcc -shared basics.c -o lib_basics.so\n",
    "```"
   ]
  },
  {
   "cell_type": "markdown",
   "metadata": {
    "slideshow": {
     "slide_type": "subslide"
    }
   },
   "source": [
    "## Load created library in Python code"
   ]
  },
  {
   "cell_type": "code",
   "execution_count": 1,
   "metadata": {
    "collapsed": true
   },
   "outputs": [],
   "source": [
    "from ctypes import cdll\n",
    "\n",
    "basics = cdll.LoadLibrary('./lib_basics.so')"
   ]
  },
  {
   "cell_type": "markdown",
   "metadata": {
    "slideshow": {
     "slide_type": "subslide"
    }
   },
   "source": [
    "## Usage\n",
    "\n",
    "Now it's pretty simple to call `mul` function just like it was a property of module `basics`"
   ]
  },
  {
   "cell_type": "code",
   "execution_count": 2,
   "metadata": {
    "collapsed": false
   },
   "outputs": [
    {
     "data": {
      "text/plain": [
       "10"
      ]
     },
     "execution_count": 2,
     "metadata": {},
     "output_type": "execute_result"
    }
   ],
   "source": [
    "basics.mul(2, 5)"
   ]
  },
  {
   "cell_type": "markdown",
   "metadata": {
    "slideshow": {
     "slide_type": "fragment"
    }
   },
   "source": [
    "See? It's easy"
   ]
  },
  {
   "cell_type": "markdown",
   "metadata": {
    "slideshow": {
     "slide_type": "slide"
    }
   },
   "source": [
    "# Dot product of two arrays\n",
    "\n",
    "Array is a block of memory splitted into chunks of a single type and it's easy to use C arrays with `ctypes`"
   ]
  },
  {
   "cell_type": "markdown",
   "metadata": {
    "slideshow": {
     "slide_type": "subslide"
    }
   },
   "source": [
    "## C function\n",
    "\n",
    "Just iterate through each element of arrays, multiply corresponding ones and summarize the result\n",
    "```c\n",
    "#include <stdlib.h>\n",
    "\n",
    "int dot(int *a, int *b, size_t length) {\n",
    "    int result = 0;\n",
    "    while (length --> 0) {\n",
    "        result += a[length] * b[length];\n",
    "    }\n",
    "    return result;\n",
    "}\n",
    "```"
   ]
  },
  {
   "cell_type": "markdown",
   "metadata": {
    "slideshow": {
     "slide_type": "subslide"
    }
   },
   "source": [
    "## Create arrays\n",
    "\n",
    "We should import `int` data type from `ctypes`"
   ]
  },
  {
   "cell_type": "code",
   "execution_count": 3,
   "metadata": {
    "collapsed": false,
    "slideshow": {
     "slide_type": "fragment"
    }
   },
   "outputs": [],
   "source": [
    "from ctypes import c_int"
   ]
  },
  {
   "cell_type": "markdown",
   "metadata": {
    "slideshow": {
     "slide_type": "fragment"
    }
   },
   "source": [
    "Say, it's needed to multiply 3-dimensional vectors"
   ]
  },
  {
   "cell_type": "code",
   "execution_count": 4,
   "metadata": {
    "collapsed": true,
    "slideshow": {
     "slide_type": "-"
    }
   },
   "outputs": [],
   "source": [
    "first = (c_int * 3)(1, 2, 3)"
   ]
  },
  {
   "cell_type": "markdown",
   "metadata": {
    "slideshow": {
     "slide_type": "fragment"
    }
   },
   "source": [
    "We can create an alias for this data type and use it"
   ]
  },
  {
   "cell_type": "code",
   "execution_count": 5,
   "metadata": {
    "collapsed": false
   },
   "outputs": [],
   "source": [
    "vector3D = c_int * 3\n",
    "second = vector3D(4, 5, 6)"
   ]
  },
  {
   "cell_type": "markdown",
   "metadata": {
    "slideshow": {
     "slide_type": "subslide"
    }
   },
   "source": [
    "## Call the function"
   ]
  },
  {
   "cell_type": "code",
   "execution_count": 6,
   "metadata": {
    "collapsed": false
   },
   "outputs": [
    {
     "name": "stdout",
     "output_type": "stream",
     "text": [
      "C returned 32 and Python returned 32\n"
     ]
    }
   ],
   "source": [
    "c_result = basics.dot(first, second, 3)\n",
    "python_result = sum(a * b for a, b in zip([1, 2, 3], [4, 5, 6]))\n",
    "print('C returned', c_result, 'and Python returned', python_result)"
   ]
  },
  {
   "cell_type": "code",
   "execution_count": 7,
   "metadata": {
    "collapsed": false,
    "slideshow": {
     "slide_type": "fragment"
    }
   },
   "outputs": [
    {
     "data": {
      "text/plain": [
       "6"
      ]
     },
     "execution_count": 7,
     "metadata": {},
     "output_type": "execute_result"
    }
   ],
   "source": [
    "basics.dot((c_int*1)(2), (c_int*1)(*[3]), 1)"
   ]
  },
  {
   "cell_type": "markdown",
   "metadata": {
    "slideshow": {
     "slide_type": "subslide"
    }
   },
   "source": [
    "Following examples will cause errors"
   ]
  },
  {
   "cell_type": "code",
   "execution_count": 8,
   "metadata": {
    "collapsed": false
   },
   "outputs": [
    {
     "name": "stdout",
     "output_type": "stream",
     "text": [
      "You cannot pass lists\n",
      "Forbidden to provide more elements than it should accept\n"
     ]
    }
   ],
   "source": [
    "try:\n",
    "    vector3D([1, 2, 3])\n",
    "except:\n",
    "    print('You cannot pass lists')\n",
    "try:\n",
    "    vector3D(0, 1, 2, 3)\n",
    "except:\n",
    "    print('Forbidden to provide more elements than it should accept')   "
   ]
  },
  {
   "cell_type": "markdown",
   "metadata": {
    "slideshow": {
     "slide_type": "slide"
    }
   },
   "source": [
    "# Available types\n",
    "\n",
    "Following types can be used to pass arguments to `C` functions\n",
    "\n",
    "| ctypes       | type                                    | C type  Python type |\n",
    "| -----------  | --------------------------------------  | ------------------- |\n",
    "| c_bool       | _Bool                                   | bool (1) |\n",
    "| c_char       | char                                    | 1-character bytes object |\n",
    "| c_wchar      | wchar_t                                 | 1-character string |\n",
    "| c_byte       | char                                    | int |\n",
    "| c_ubyte      | unsigned                                | char   int |\n",
    "| c_short      | short                                   | int |\n",
    "| c_ushort     | unsigned                                | short  int |\n",
    "| c_int        | int                                     | int |\n",
    "| c_uint       | unsigned                                | int    int |\n",
    "| c_long       | long                                    | int |"
   ]
  },
  {
   "cell_type": "markdown",
   "metadata": {
    "slideshow": {
     "slide_type": "subslide"
    }
   },
   "source": [
    "| ctypes       | type                                    | C type  Python type |\n",
    "| -----------  | --------------------------------------  | ------------------- |\n",
    "| c_ulong      | unsigned long                           | int |\n",
    "| c_longlong   | __int64 or long long                    | int |\n",
    "| c_ulonglong  | unsigned __int64 or unsigned long long  | int |\n",
    "| c_size_t     | size_t                                  | int |\n",
    "| c_ssize_t    | ssize_t or Py_ssize_t                   | int |\n",
    "| c_float      | float                                   | float |\n",
    "| c_double     | double                                  | float |\n",
    "| c_longdouble | long double                             | float |\n",
    "| c_char_p     | char * (NUL terminated)                 | bytes object or None |\n",
    "| c_wchar_p    | wchar_t * (NUL terminated)              | string or None |\n",
    "| c_void_p     | void *                                  | int or None |"
   ]
  },
  {
   "cell_type": "markdown",
   "metadata": {
    "slideshow": {
     "slide_type": "slide"
    }
   },
   "source": [
    "# Change the long passed to your function\n",
    "\n",
    "Long number in Python represented as an array of longs:\n",
    "```\n",
    "{d0, d1, d2, ...}\n",
    "```\n",
    "\n",
    "We can change each one of them, so why not?"
   ]
  },
  {
   "cell_type": "markdown",
   "metadata": {
    "slideshow": {
     "slide_type": "subslide"
    }
   },
   "source": [
    "## Prepare shared library\n",
    "\n",
    "C function:\n",
    "```c\n",
    "#include <Python.h>\n",
    "\n",
    "int set_long(PyLongObject* o, long new_value,\n",
    "\n",
    "             size_t digit) {\n",
    "             \n",
    "    o->ob_digit[digit] = new_value;\n",
    "    \n",
    "    return 0;\n",
    "}\n",
    "```"
   ]
  },
  {
   "cell_type": "markdown",
   "metadata": {
    "slideshow": {
     "slide_type": "subslide"
    }
   },
   "source": [
    "File should be compiled to shared library (dll in Windows).\n",
    "\n",
    "Makefile for Linux:\n",
    "```\n",
    "FLAGS=-shared\n",
    "LIBRARIES=-I/usr/include/python3.4\n",
    "BUILD_LIBRARY=gcc $(FLAGS) $(LIBRARIES)\n",
    "all:\n",
    "    $(BUILD_LIBRARY) setters.c -o lib_setters.so\n",
    "```"
   ]
  },
  {
   "cell_type": "markdown",
   "metadata": {
    "slideshow": {
     "slide_type": "slide"
    }
   },
   "source": [
    "## Use shared library\n",
    "\n",
    "It's handy to create Python wrapper for this C function"
   ]
  },
  {
   "cell_type": "code",
   "execution_count": 9,
   "metadata": {
    "collapsed": true,
    "slideshow": {
     "slide_type": "-"
    }
   },
   "outputs": [],
   "source": [
    "from ctypes import cdll, c_long, c_size_t, c_voidp\n",
    "\n",
    "setters = cdll.LoadLibrary('./lib_setters.so')\n",
    "\n",
    "def change_long(a, b=0, digit=0):\n",
    "    setters.set_long(c_voidp(id(a)), c_long(b), c_size_t(digit))"
   ]
  },
  {
   "cell_type": "markdown",
   "metadata": {
    "slideshow": {
     "slide_type": "subslide"
    }
   },
   "source": [
    "Don't forget, that Python interpreter will not create new objects for little integers like `0`, so we should avoid assigning of new values to such numbers, because they will be changed in all places where they're used"
   ]
  },
  {
   "cell_type": "code",
   "execution_count": 10,
   "metadata": {
    "collapsed": false,
    "slideshow": {
     "slide_type": "fragment"
    }
   },
   "outputs": [],
   "source": [
    "from ctypes import c_long, c_size_t, c_voidp\n",
    "\n",
    "def change_long(a, b=0, digit=0):\n",
    "    args = (a, b, digit)\n",
    "    if not all(type(a) is int for a in args):\n",
    "        raise TypeError('All parameters should be of type \"int\", '\n",
    "                        'but {} provided'.format(map(type, args)))\n",
    "    if a + 0 is a:\n",
    "        raise ValueError('No way. You don\\'t want to break '\n",
    "                         'your interpreter, right?')\n",
    "    setters.set_long(c_voidp(id(a)), c_long(b), c_size_t(digit))"
   ]
  },
  {
   "cell_type": "markdown",
   "metadata": {
    "slideshow": {
     "slide_type": "subslide"
    }
   },
   "source": [
    "Let's recall, that we cannot change the value of integers inside of Python functions"
   ]
  },
  {
   "cell_type": "code",
   "execution_count": 11,
   "metadata": {
    "collapsed": false,
    "slideshow": {
     "slide_type": "fragment"
    }
   },
   "outputs": [
    {
     "name": "stdout",
     "output_type": "stream",
     "text": [
      "     Before function call     : 0x400 (0x7fc66da16290)\n",
      "     After function call      : 0x400 (0x7fc66da16290)\n"
     ]
    }
   ],
   "source": [
    "def variable_info(text, variable):\n",
    "    print('{:^30}: {:#05x} ({:#x})'.format(text, variable, id(variable)))\n",
    "\n",
    "def foo(a, new_value):\n",
    "    a = new_value\n",
    "\n",
    "a = 2**10\n",
    "variable_info('Before function call', a)\n",
    "foo(a, 5)\n",
    "variable_info('After function call', a)"
   ]
  },
  {
   "cell_type": "markdown",
   "metadata": {
    "slideshow": {
     "slide_type": "subslide"
    }
   },
   "source": [
    "Now forget it and take a look on what we've done"
   ]
  },
  {
   "cell_type": "code",
   "execution_count": 12,
   "metadata": {
    "collapsed": false,
    "slideshow": {
     "slide_type": "fragment"
    }
   },
   "outputs": [
    {
     "name": "stdout",
     "output_type": "stream",
     "text": [
      "     Before function call     : 0x400 (0x7fc66da16d90)\n",
      "     After function call      : 0x002 (0x7fc66da16d90)\n",
      "  What's about b? Here it is  : 0x002 (0x7fc66da16d90)\n"
     ]
    }
   ],
   "source": [
    "a = 2**10\n",
    "b = a\n",
    "variable_info('Before function call', a)\n",
    "change_long(a, 2, 0)\n",
    "variable_info('After function call', a)\n",
    "variable_info('What\\'s about b? Here it is', b)"
   ]
  },
  {
   "cell_type": "markdown",
   "metadata": {
    "slideshow": {
     "slide_type": "fragment"
    }
   },
   "source": [
    "![hahaha](./lied.jpg)"
   ]
  }
 ],
 "metadata": {
  "celltoolbar": "Slideshow",
  "kernelspec": {
   "display_name": "Python 3",
   "language": "python",
   "name": "python3"
  },
  "language_info": {
   "codemirror_mode": {
    "name": "ipython",
    "version": 3
   },
   "file_extension": ".py",
   "mimetype": "text/x-python",
   "name": "python",
   "nbconvert_exporter": "python",
   "pygments_lexer": "ipython3",
   "version": "3.5.1"
  },
  "widgets": {
   "state": {},
   "version": "1.1.2"
  }
 },
 "nbformat": 4,
 "nbformat_minor": 0
}
