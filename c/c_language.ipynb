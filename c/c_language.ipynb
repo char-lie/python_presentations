{
 "cells": [
  {
   "cell_type": "markdown",
   "metadata": {
    "slideshow": {
     "slide_type": "slide"
    }
   },
   "source": [
    "# Variables\n",
    "\n",
    "`C` language uses static typing, which means that you should specify type of variable on its declaration\n",
    "\n",
    "This may look familiar to you\n",
    "```c\n",
    "int a; // Create integer 'a'\n",
    "```\n",
    "\n",
    "You can assign value immediately\n",
    "```c\n",
    "int k = 10;\n",
    "```"
   ]
  },
  {
   "cell_type": "markdown",
   "metadata": {
    "slideshow": {
     "slide_type": "subslide"
    }
   },
   "source": [
    "## Integer data types\n",
    "\n",
    "Types arranged from the smallest to the biggest\n",
    "- char\n",
    "- short\n",
    "- int\n",
    "- long\n",
    "- long long"
   ]
  },
  {
   "cell_type": "markdown",
   "metadata": {
    "slideshow": {
     "slide_type": "subslide"
    }
   },
   "source": [
    "## Unsigned and signed\n",
    "\n",
    "You can attach suffix `unsigned` to denote that you want to use non-negative integers\n",
    "```\n",
    "unsigned long t = 0;\n",
    "```\n",
    "\n",
    "Suffix `signed` used to have guarantees, that variable can contain negative values as well\n",
    "```\n",
    "signed char p = 7;\n",
    "```"
   ]
  },
  {
   "cell_type": "markdown",
   "metadata": {
    "slideshow": {
     "slide_type": "subslide"
    }
   },
   "source": [
    "## Int\n",
    "\n",
    "Note that `unsigned` or `signed` without type name means `unsigned int` and `signed int` respectively\n",
    "```c\n",
    "unsigned amount = 150;\n",
    "signed height = -1;\n",
    "signed weight = 1300;\n",
    "```"
   ]
  },
  {
   "cell_type": "markdown",
   "metadata": {
    "slideshow": {
     "slide_type": "subslide"
    }
   },
   "source": [
    "## Floating point data types\n",
    "\n",
    "Floating point literals can have suffix to avoid ambiguities in functions calls\n",
    "\n",
    "|name | size (bits/bytes) | suffix |\n",
    "| --- | ---- | ------ |\n",
    "| float | 32/4 | f |\n",
    "| double | 64/8 |  |\n",
    "| float | 80/10 | L |\n",
    "\n",
    "If no suffix specified for literal, `double` type used.\n",
    "\n",
    "```c\n",
    "float width = 1.15;\n",
    "float price = 1.0f;\n",
    "long double frequency = 1.0L;\n",
    "double temp = 0.0;\n",
    "```"
   ]
  },
  {
   "cell_type": "markdown",
   "metadata": {
    "slideshow": {
     "slide_type": "slide"
    }
   },
   "source": [
    "# Functions\n",
    "\n",
    "Here is the simplest function, which does nothing\n",
    "```c\n",
    "void f() {\n",
    "}\n",
    "```\n",
    "\n",
    "Every function should have strictly specified type of returned value\n",
    "\n",
    "Sometimes it's needed to use function, which doesn't return any values &mdash; in this case you can use `void` type.\n",
    "\n",
    "```c\n",
    "void f() {\n",
    "    return; // This is correct too\n",
    "}\n",
    "```"
   ]
  },
  {
   "cell_type": "markdown",
   "metadata": {
    "slideshow": {
     "slide_type": "subslide"
    }
   },
   "source": [
    "## Function return type\n",
    "\n",
    "It's time to write something better than stub\n",
    "```c\n",
    "int get_five() {\n",
    "    return 5;\n",
    "}\n",
    "```\n",
    "\n",
    "Almost like in Python\n",
    "```python\n",
    "def get_five():\n",
    "    return 5\n",
    "```"
   ]
  },
  {
   "cell_type": "markdown",
   "metadata": {
    "slideshow": {
     "slide_type": "subslide"
    }
   },
   "source": [
    "## Function parameters\n",
    "\n",
    "Function parameters should have type too\n",
    "```c\n",
    "int add(float a, long b) {\n",
    "    return a + b;\n",
    "}\n",
    "```\n",
    "\n",
    "A bit harder than in `Python`, but still good\n",
    "```python\n",
    "def add(a, b):\n",
    "    return a + b\n",
    "```"
   ]
  },
  {
   "cell_type": "markdown",
   "metadata": {
    "slideshow": {
     "slide_type": "subslide"
    }
   },
   "source": [
    "## Calling functions\n",
    "\n",
    "Just like in `Python`, but don't forget about semicolons\n",
    "```c\n",
    "add(2, 2);\n",
    "int result = add(add(1.0f, 0) * 2f, 5);\n",
    "float k = add(0.0, result);\n",
    "```"
   ]
  }
 ],
 "metadata": {
  "celltoolbar": "Slideshow",
  "kernelspec": {
   "display_name": "Python 3",
   "language": "python",
   "name": "python3"
  },
  "language_info": {
   "codemirror_mode": {
    "name": "ipython",
    "version": 3
   },
   "file_extension": ".py",
   "mimetype": "text/x-python",
   "name": "python",
   "nbconvert_exporter": "python",
   "pygments_lexer": "ipython3",
   "version": "3.5.1"
  },
  "widgets": {
   "state": {},
   "version": "1.1.2"
  }
 },
 "nbformat": 4,
 "nbformat_minor": 0
}
