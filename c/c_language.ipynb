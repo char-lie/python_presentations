{
 "cells": [
  {
   "cell_type": "markdown",
   "metadata": {
    "slideshow": {
     "slide_type": "slide"
    }
   },
   "source": [
    "# Variables\n",
    "\n",
    "`C` language uses static typing, which means that you should specify type of variable on its declaration\n",
    "\n",
    "This may look familiar to you\n",
    "```c\n",
    "int a; // Create integer 'a'\n",
    "```\n",
    "\n",
    "You can assign value immediately\n",
    "```c\n",
    "int k = 10;\n",
    "```"
   ]
  },
  {
   "cell_type": "markdown",
   "metadata": {
    "slideshow": {
     "slide_type": "subslide"
    }
   },
   "source": [
    "## Integer data types\n",
    "\n",
    "Types arranged from the smallest to the biggest\n",
    "- char\n",
    "- short\n",
    "- int\n",
    "- long\n",
    "- long long"
   ]
  },
  {
   "cell_type": "markdown",
   "metadata": {
    "slideshow": {
     "slide_type": "subslide"
    }
   },
   "source": [
    "## Unsigned and signed\n",
    "\n",
    "You can attach suffix `unsigned` to denote that you want to use non-negative integers\n",
    "```\n",
    "unsigned long t = 0;\n",
    "```\n",
    "\n",
    "Suffix `signed` used to have guarantees, that variable can contain negative values as well\n",
    "```\n",
    "signed char p = 7;\n",
    "```"
   ]
  },
  {
   "cell_type": "markdown",
   "metadata": {
    "slideshow": {
     "slide_type": "subslide"
    }
   },
   "source": [
    "## Int\n",
    "\n",
    "Note that `unsigned` or `signed` without type name means `unsigned int` and `signed int` respectively\n",
    "```c\n",
    "unsigned amount = 150;\n",
    "signed height = -1;\n",
    "signed weight = 1300;\n",
    "```"
   ]
  },
  {
   "cell_type": "markdown",
   "metadata": {
    "slideshow": {
     "slide_type": "subslide"
    }
   },
   "source": [
    "## Floating point data types\n",
    "\n",
    "Floating point literals can have suffix to avoid ambiguities in functions calls\n",
    "\n",
    "|name | size (bits/bytes) | suffix |\n",
    "| --- | ---- | ------ |\n",
    "| float | 32/4 | f |\n",
    "| double | 64/8 |  |\n",
    "| float | 80/10 | L |\n",
    "\n",
    "If no suffix specified for literal, `double` type used.\n",
    "\n",
    "```c\n",
    "float width = 1.15;\n",
    "float price = 1.0f;\n",
    "long double frequency = 1.0L;\n",
    "double temp = 0.0;\n",
    "```"
   ]
  },
  {
   "cell_type": "markdown",
   "metadata": {
    "slideshow": {
     "slide_type": "slide"
    }
   },
   "source": [
    "# Functions\n",
    "\n",
    "Here is the simplest function, which does nothing\n",
    "```c\n",
    "void f() {\n",
    "}\n",
    "```\n",
    "\n",
    "Every function should have strictly specified type of returned value\n",
    "\n",
    "Sometimes it's needed to use function, which doesn't return any values &mdash; in this case you can use `void` type.\n",
    "\n",
    "```c\n",
    "void f() {\n",
    "    return; // This is correct too\n",
    "}\n",
    "```"
   ]
  },
  {
   "cell_type": "markdown",
   "metadata": {
    "slideshow": {
     "slide_type": "subslide"
    }
   },
   "source": [
    "## Function return type\n",
    "\n",
    "It's time to write something better than stub\n",
    "```c\n",
    "int get_five() {\n",
    "    return 5;\n",
    "}\n",
    "```\n",
    "\n",
    "Almost like in Python\n",
    "```python\n",
    "def get_five():\n",
    "    return 5\n",
    "```"
   ]
  },
  {
   "cell_type": "markdown",
   "metadata": {
    "slideshow": {
     "slide_type": "subslide"
    }
   },
   "source": [
    "## Function parameters\n",
    "\n",
    "Function parameters should have type too\n",
    "```c\n",
    "int add(float a, long b) {\n",
    "    return a + b;\n",
    "}\n",
    "```\n",
    "\n",
    "A bit harder than in `Python`, but still good\n",
    "```python\n",
    "def add(a, b):\n",
    "    return a + b\n",
    "```"
   ]
  },
  {
   "cell_type": "markdown",
   "metadata": {
    "slideshow": {
     "slide_type": "subslide"
    }
   },
   "source": [
    "## Calling functions\n",
    "\n",
    "Just like in `Python`, but don't forget about semicolons\n",
    "```c\n",
    "add(2, 2);\n",
    "int result = add(add(1.0f, 0) * 2f, 5);\n",
    "float k = add(0.0, result);\n",
    "```"
   ]
  },
  {
   "cell_type": "markdown",
   "metadata": {
    "slideshow": {
     "slide_type": "slide"
    }
   },
   "source": [
    "# See results of your code\n",
    "\n",
    "`C` applications should be compiled to be executed\n",
    "\n",
    "You cannot run it in interpreter"
   ]
  },
  {
   "cell_type": "markdown",
   "metadata": {
    "slideshow": {
     "slide_type": "subslide"
    }
   },
   "source": [
    "## Print\n",
    "\n",
    "Function `printf` in `C` behaves like `print` in `Python`\n",
    "```C\n",
    "printf(\"Hello world!\\n\");\n",
    "```\n",
    "\n",
    "This function allows you to use formatted string\n",
    "```C\n",
    "printf(\"Give me %d cup(s) of tea, mr. %s\",\n",
    "        3, \"John\");\n",
    "```"
   ]
  },
  {
   "cell_type": "markdown",
   "metadata": {
    "slideshow": {
     "slide_type": "subslide"
    }
   },
   "source": [
    "## Entry point\n",
    "\n",
    "`C` application should have a function called `main`, which will be executed on application start\n",
    "\n",
    "```c\n",
    "int main() {\n",
    "    return 0;\n",
    "}\n",
    "```"
   ]
  },
  {
   "cell_type": "markdown",
   "metadata": {
    "slideshow": {
     "slide_type": "subslide"
    }
   },
   "source": [
    "## Hello world\n",
    "\n",
    "We need to include header file of library with `printf` function and here we are\n",
    "```c\n",
    "#include <stdio.h>\n",
    "\n",
    "int main() {\n",
    "    printf(\"Hello world!\\n\");\n",
    "    return 0;\n",
    "}\n",
    "```"
   ]
  },
  {
   "cell_type": "markdown",
   "metadata": {
    "slideshow": {
     "slide_type": "subslide"
    }
   },
   "source": [
    "## Execute\n",
    "\n",
    "In Linux you should have `gcc` installed in order to compile your code\n",
    "```bash\n",
    "gcc file.c -o app\n",
    "```\n",
    "\n",
    "and execute\n",
    "```bash\n",
    "./app\n",
    "```"
   ]
  },
  {
   "cell_type": "markdown",
   "metadata": {
    "slideshow": {
     "slide_type": "slide"
    }
   },
   "source": [
    "# Conditions\n",
    "\n",
    "Conditions in `C` are very similar to those in `Python`\n",
    "```c\n",
    "if (true) {\n",
    "    printf(\"That's true\\n\");\n",
    "} else if (false) {\n",
    "    printf(\"This shouldn't be done\\n\");\n",
    "} else {\n",
    "    printf(\"Are you kidding me?\");\n",
    "}\n",
    "```"
   ]
  },
  {
   "cell_type": "markdown",
   "metadata": {
    "slideshow": {
     "slide_type": "subslide"
    }
   },
   "source": [
    "## Switch-case\n",
    "\n",
    "If you have checks like\n",
    "```c\n",
    "int a = 5;\n",
    "if (a == 0) printf(\"Zero\\n\");\n",
    "else if (a == 5) printf(\"Five\\n\");\n",
    "else printf(\"Another variant\\n\");\n",
    "```"
   ]
  },
  {
   "cell_type": "markdown",
   "metadata": {
    "slideshow": {
     "slide_type": "subslide"
    }
   },
   "source": [
    "In `C` language you can do this\n",
    "```c\n",
    "int a = 5;\n",
    "switch(a) {\n",
    "    case 0:\n",
    "        printf(\"Zero\\n\");\n",
    "        break;\n",
    "    case 5:\n",
    "        printf(\"Five\\n\");\n",
    "        break;\n",
    "    default:\n",
    "        printf(\"Another variant\\n\");\n",
    "}\n",
    "```"
   ]
  },
  {
   "cell_type": "markdown",
   "metadata": {
    "slideshow": {
     "slide_type": "subslide"
    }
   },
   "source": [
    "Seems not so pretty, but it's better to use `switch-case` instead of `if`, when you want to check, for example, which key was pressed in your videogame\n",
    "```c\n",
    "switch(key) {\n",
    "    UP:\n",
    "        move_hero_up(hero);\n",
    "        break;\n",
    "    DOWN:\n",
    "        move_hero_down(hero);\n",
    "        break;\n",
    "    default:\n",
    "        hero_stay(hero);\n",
    "}\n",
    "```"
   ]
  },
  {
   "cell_type": "markdown",
   "metadata": {
    "slideshow": {
     "slide_type": "slide"
    }
   },
   "source": [
    "# Loops\n",
    "\n",
    "`C` language has following loop types\n",
    "- `for`\n",
    "- `while`\n",
    "- `do-while`"
   ]
  },
  {
   "cell_type": "markdown",
   "metadata": {
    "slideshow": {
     "slide_type": "subslide"
    }
   },
   "source": [
    "## Increment and decrement\n",
    "\n",
    "There's a shorthand for numbers increment or decrement by `1` in `C` language\n",
    "```c\n",
    "i++; // Increment i\n",
    "a--; // Decrement a\n",
    "++b; // Increment b\n",
    "--c; // Decrement c\n",
    "```"
   ]
  },
  {
   "cell_type": "markdown",
   "metadata": {
    "slideshow": {
     "slide_type": "subslide"
    }
   },
   "source": [
    "## Post and pre\n",
    "\n",
    "Post increment like `i++` means, that addition will be performed after other operations in current expression\n",
    "```c\n",
    "int i = 5;\n",
    "printf(\"%d\\n\", i++); // Will print 5\n",
    "printf(\"%d\\n\", i); // Will print 6\n",
    "```\n",
    "Pre increment written ad `++i` will increment before expression evaluation\n",
    "```c\n",
    "int i = 5;\n",
    "printf(\"%d\\n\", ++i); // Will print 6\n",
    "printf(\"%d\\n\", i); // Will print 6\n",
    "```"
   ]
  },
  {
   "cell_type": "markdown",
   "metadata": {
    "slideshow": {
     "slide_type": "subslide"
    }
   },
   "source": [
    "## While\n",
    "\n",
    "Just like in `Python`, but in `C` we have handy increment\n",
    "```c\n",
    "int i = 0;\n",
    "while (i < 10) {\n",
    "    printf(\"%d\\n\", i);\n",
    "    i++;\n",
    "}\n",
    "```\n",
    "\n",
    "`Python` code\n",
    "```python\n",
    "i = 0\n",
    "while i < 10:\n",
    "    print i\n",
    "    i += 1\n",
    "```"
   ]
  },
  {
   "cell_type": "markdown",
   "metadata": {
    "slideshow": {
     "slide_type": "subslide"
    }
   },
   "source": [
    "## do-while\n",
    "\n",
    "Like `while`, but condition check occurs not in the start, but in the end of loop\n",
    "```c\n",
    "int i = 0;\n",
    "do {\n",
    "    printf(\"%d\\n\", i);\n",
    "} while (++i < 10);\n",
    "```\n",
    "\n",
    "In `Python`\n",
    "```python\n",
    "i = 0\n",
    "while True:\n",
    "    print i\n",
    "    i += 1\n",
    "    if i > 10: break\n",
    "```"
   ]
  },
  {
   "cell_type": "markdown",
   "metadata": {
    "slideshow": {
     "slide_type": "subslide"
    }
   },
   "source": [
    "## `Goes to` operator (not a `goto`, IYKWIM)\n",
    "\n",
    "We can not only increment number by `++`, but decrement with `--` as well and this means, that following is correct\n",
    "```c\n",
    "int i = 10;\n",
    "while (i --> 0) {\n",
    "    next_step();\n",
    "}\n",
    "```\n",
    "\n",
    "What happens:\n",
    "- we have `i` equal to `10`\n",
    "- on each loop iteration we compare it to `0` and decrement"
   ]
  }
 ],
 "metadata": {
  "celltoolbar": "Slideshow",
  "kernelspec": {
   "display_name": "Python 3",
   "language": "python",
   "name": "python3"
  },
  "language_info": {
   "codemirror_mode": {
    "name": "ipython",
    "version": 3
   },
   "file_extension": ".py",
   "mimetype": "text/x-python",
   "name": "python",
   "nbconvert_exporter": "python",
   "pygments_lexer": "ipython3",
   "version": "3.5.1"
  },
  "widgets": {
   "state": {},
   "version": "1.1.2"
  }
 },
 "nbformat": 4,
 "nbformat_minor": 0
}
