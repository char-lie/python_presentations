{
 "cells": [
  {
   "cell_type": "markdown",
   "metadata": {
    "slideshow": {
     "slide_type": "slide"
    }
   },
   "source": [
    "# Arrays\n",
    "\n",
    "NumPy deals just perfect with arrays, because of\n",
    "- advanced overload of `__getitem__` operator for indexing, which is handy;\n",
    "- overload of other operators for comfortable shortcuts and intuitive interface;\n",
    "- methods and functions implemented in `C` language, which is fast;\n",
    "- rich library of functions and methods, which allows you to do almost whatever you want."
   ]
  },
  {
   "cell_type": "markdown",
   "metadata": {
    "slideshow": {
     "slide_type": "subslide"
    }
   },
   "source": [
    "## Creating arrays\n",
    "\n",
    "It's not so easy to create them, but it's worth it"
   ]
  },
  {
   "cell_type": "code",
   "execution_count": 2,
   "metadata": {
    "collapsed": false,
    "slideshow": {
     "slide_type": "fragment"
    }
   },
   "outputs": [
    {
     "name": "stdout",
     "output_type": "stream",
     "text": [
      "[1 2 3]\n"
     ]
    }
   ],
   "source": [
    "from numpy import array\n",
    "\n",
    "arr = array([1, 2, 3])\n",
    "print(arr)"
   ]
  },
  {
   "cell_type": "markdown",
   "metadata": {
    "slideshow": {
     "slide_type": "fragment"
    }
   },
   "source": [
    "You just have to provide `array` constructor of `numpy` module with `iterable` type."
   ]
  },
  {
   "cell_type": "markdown",
   "metadata": {
    "slideshow": {
     "slide_type": "subslide"
    }
   },
   "source": [
    "More examples"
   ]
  },
  {
   "cell_type": "code",
   "execution_count": 18,
   "metadata": {
    "collapsed": false,
    "slideshow": {
     "slide_type": "-"
    }
   },
   "outputs": [
    {
     "name": "stdout",
     "output_type": "stream",
     "text": [
      "Range demo: [0 1 2 3 4 5 6 7 8 9]\n",
      "Matrix demo: [[1 2]\n",
      " [3 4]]\n",
      "Array of NumPy arrays: [[[1 2]\n",
      "  [3 4]]\n",
      "\n",
      " [[1 2]\n",
      "  [3 4]]]\n",
      "Something strange: [[1] 2]\n"
     ]
    }
   ],
   "source": [
    "ten = array(range(10))\n",
    "matrix = array([[1,2], [3, 4]])\n",
    "nested_matrix = array([matrix, matrix])\n",
    "strange_array = array([[1], 2])\n",
    "print('Range demo:', ten)\n",
    "print('Matrix demo:', matrix)\n",
    "print('Array of NumPy arrays:', nested_matrix)\n",
    "print('Something strange:', strange_array)"
   ]
  }
 ],
 "metadata": {
  "celltoolbar": "Slideshow",
  "kernelspec": {
   "display_name": "Python 3",
   "language": "python",
   "name": "python3"
  },
  "language_info": {
   "codemirror_mode": {
    "name": "ipython",
    "version": 3
   },
   "file_extension": ".py",
   "mimetype": "text/x-python",
   "name": "python",
   "nbconvert_exporter": "python",
   "pygments_lexer": "ipython3",
   "version": "3.5.1"
  },
  "widgets": {
   "state": {},
   "version": "1.1.2"
  }
 },
 "nbformat": 4,
 "nbformat_minor": 0
}
