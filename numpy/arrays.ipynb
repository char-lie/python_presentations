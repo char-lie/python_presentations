{
 "cells": [
  {
   "cell_type": "markdown",
   "metadata": {
    "slideshow": {
     "slide_type": "slide"
    }
   },
   "source": [
    "# Arrays\n",
    "\n",
    "NumPy deals just perfect with arrays, because of\n",
    "- advanced overload of `__getitem__` operator for indexing, which is handy;\n",
    "- overload of other operators for comfortable shortcuts and intuitive interface;\n",
    "- methods and functions implemented in `C` language, which is fast;\n",
    "- rich library of functions and methods, which allows you to do almost whatever you want."
   ]
  },
  {
   "cell_type": "markdown",
   "metadata": {
    "slideshow": {
     "slide_type": "slide"
    }
   },
   "source": [
    "# Creating arrays\n",
    "\n",
    "It's not so easy to create them, but it's worth it"
   ]
  },
  {
   "cell_type": "code",
   "execution_count": 1,
   "metadata": {
    "collapsed": false,
    "slideshow": {
     "slide_type": "fragment"
    }
   },
   "outputs": [
    {
     "name": "stdout",
     "output_type": "stream",
     "text": [
      "[1 2 3]\n"
     ]
    }
   ],
   "source": [
    "from numpy import array\n",
    "\n",
    "arr = array([1, 2, 3])\n",
    "print(arr)"
   ]
  },
  {
   "cell_type": "markdown",
   "metadata": {
    "slideshow": {
     "slide_type": "fragment"
    }
   },
   "source": [
    "You just have to provide `array` constructor of `numpy` module with `iterable` type."
   ]
  },
  {
   "cell_type": "markdown",
   "metadata": {
    "slideshow": {
     "slide_type": "subslide"
    }
   },
   "source": [
    "More examples"
   ]
  },
  {
   "cell_type": "code",
   "execution_count": 2,
   "metadata": {
    "collapsed": false,
    "slideshow": {
     "slide_type": "-"
    }
   },
   "outputs": [
    {
     "name": "stdout",
     "output_type": "stream",
     "text": [
      "Range demo: [0 1 2 3 4 5 6 7 8 9]\n",
      "Matrix demo: [[1 2]\n",
      " [3 4]]\n",
      "Array of NumPy arrays: [[[1 2]\n",
      "  [3 4]]\n",
      "\n",
      " [[1 2]\n",
      "  [3 4]]]\n",
      "Something strange: [[1] 2]\n"
     ]
    }
   ],
   "source": [
    "ten = array(range(10))\n",
    "matrix = array([[1,2], [3, 4]])\n",
    "nested_matrix = array([matrix, matrix])\n",
    "strange_array = array([[1], 2])\n",
    "\n",
    "print('Range demo:', ten)\n",
    "print('Matrix demo:', matrix)\n",
    "print('Array of NumPy arrays:', nested_matrix)\n",
    "print('Something strange:', strange_array)"
   ]
  },
  {
   "cell_type": "markdown",
   "metadata": {
    "slideshow": {
     "slide_type": "slide"
    }
   },
   "source": [
    "# Types\n",
    "\n",
    "NumPy can be fast, because it allows you to create arrays with elements of `C` language [types](http://docs.scipy.org/doc/numpy/user/basics.types.html)"
   ]
  },
  {
   "cell_type": "markdown",
   "metadata": {
    "slideshow": {
     "slide_type": "subslide"
    }
   },
   "source": [
    "## Shorthands\n",
    "\n",
    "Here you can see intuitive names of types to use\n",
    "\n",
    "| Data type  | Description |\n",
    "|------------|-------------|\n",
    "| bool_      | Boolean (True or False) stored as a byte |\n",
    "| int_       | Default integer type (same as C long; normally either int64 or int32) |\n",
    "| intc       | Identical to C int (normally int32 or int64) |\n",
    "| intp       | Integer used for indexing (same as C ssize_t; normally either int32 or int64) |\n",
    "| float_     | Shorthand for float64. |\n",
    "| complex_   | Shorthand for complex128. |\n",
    "\n",
    "__Note__ Underscore suffix is not mandatory"
   ]
  },
  {
   "cell_type": "markdown",
   "metadata": {
    "slideshow": {
     "slide_type": "subslide"
    }
   },
   "source": [
    "## Integers\n",
    "\n",
    "If you need to use integers of specific sizes\n",
    "- use its size in bits as a suffix;\n",
    "- add `u` prefix to denote `unsigned` value.\n",
    "\n",
    "| Data type  | Description |\n",
    "|------------|-------------|\n",
    "| int8       | Byte (-128 to 127) |\n",
    "| int16      | Integer (-32768 to 32767) |\n",
    "| int32      | Integer (-2147483648 to 2147483647) |\n",
    "| int64      | Integer (-9223372036854775808 to 9223372036854775807) |\n",
    "| uint8      | Unsigned integer (0 to 255) |\n",
    "| uint16     | Unsigned integer (0 to 65535) |\n",
    "| uint32     | Unsigned integer (0 to 4294967295) |\n",
    "| uint64     | Unsigned integer (0 to 18446744073709551615) |"
   ]
  },
  {
   "cell_type": "markdown",
   "metadata": {
    "slideshow": {
     "slide_type": "subslide"
    }
   },
   "source": [
    "## Floating points and complex\n",
    "\n",
    "There is [IEEE-754](https://en.wikipedia.org/wiki/IEEE_floating_point#IEEE_754-2008) standard for floating point arithmetics, which describes format of half (16 bits), single (32 bits), double (64 bits), quadruple (128 bits) and octuple (256 bits) numbers\n",
    "\n",
    "Standard `C` has single precision `float`, double precision `double` and additional `long double` which is at least as accurate as regular `double`\n",
    "\n",
    "| Data type  | Description |\n",
    "|------------|-------------|\n",
    "| float16    | Half precision float: sign bit, 5 bits exponent, 10 bits mantissa |\n",
    "| float32    | Single precision float: sign bit, 8 bits exponent, 23 bits mantissa |\n",
    "| float64    | Double precision float: sign bit, 11 bits exponent, 52 bits mantissa |\n",
    "| complex64  | Complex number, represented by two 32-bit floats (real and imaginary components) |\n",
    "| complex128 | Complex number, represented by two 64-bit floats (real and imaginary components) |"
   ]
  },
  {
   "cell_type": "markdown",
   "metadata": {
    "slideshow": {
     "slide_type": "slide"
    }
   },
   "source": [
    "# Specify data type\n",
    "\n",
    "NumPy `array` has a string `dtype` property to store and specify data type"
   ]
  },
  {
   "cell_type": "code",
   "execution_count": 3,
   "metadata": {
    "collapsed": false
   },
   "outputs": [
    {
     "name": "stdout",
     "output_type": "stream",
     "text": [
      "You have [1 2 0] array of type int64\n"
     ]
    }
   ],
   "source": [
    "int_array = array([1., 2.5, -0.7], dtype='int')\n",
    "print('You have {0} array of type {0.dtype}'.format(int_array))"
   ]
  },
  {
   "cell_type": "markdown",
   "metadata": {
    "slideshow": {
     "slide_type": "fragment"
    }
   },
   "source": [
    "Note that typecast was made automatically"
   ]
  },
  {
   "cell_type": "markdown",
   "metadata": {
    "slideshow": {
     "slide_type": "subslide"
    }
   },
   "source": [
    "NumPy will not allow you to create wrong array with specific type"
   ]
  },
  {
   "cell_type": "code",
   "execution_count": 4,
   "metadata": {
    "collapsed": false
   },
   "outputs": [
    {
     "ename": "ValueError",
     "evalue": "setting an array element with a sequence.",
     "output_type": "error",
     "traceback": [
      "\u001b[1;31m\u001b[0m",
      "\u001b[1;31mValueError\u001b[0mTraceback (most recent call last)",
      "\u001b[1;32m<ipython-input-4-71cbb8304a64>\u001b[0m in \u001b[0;36m<module>\u001b[1;34m()\u001b[0m\n\u001b[1;32m----> 1\u001b[1;33m \u001b[0marray\u001b[0m\u001b[1;33m(\u001b[0m\u001b[1;33m[\u001b[0m\u001b[1;33m[\u001b[0m\u001b[1;36m0\u001b[0m\u001b[1;33m]\u001b[0m\u001b[1;33m,\u001b[0m \u001b[1;36m1\u001b[0m\u001b[1;33m]\u001b[0m\u001b[1;33m,\u001b[0m \u001b[0mdtype\u001b[0m\u001b[1;33m=\u001b[0m\u001b[1;34m'int'\u001b[0m\u001b[1;33m)\u001b[0m\u001b[1;33m\u001b[0m\u001b[0m\n\u001b[0m",
      "\u001b[1;31mValueError\u001b[0m: setting an array element with a sequence."
     ]
    }
   ],
   "source": [
    "array([[0], 1], dtype='int')"
   ]
  },
  {
   "cell_type": "markdown",
   "metadata": {
    "slideshow": {
     "slide_type": "subslide"
    }
   },
   "source": [
    "NumPy assigned data type automatically, if it was not specified"
   ]
  },
  {
   "cell_type": "code",
   "execution_count": 5,
   "metadata": {
    "collapsed": false
   },
   "outputs": [
    {
     "name": "stdout",
     "output_type": "stream",
     "text": [
      "int64: [1 2 3]\n",
      "float64: [[ 1.  2.]\n",
      " [ 3.  4.]]\n",
      "object: [[0] 1]\n",
      "<U11: Hello world\n"
     ]
    }
   ],
   "source": [
    "arrays = [\n",
    "    array([1, 2, 3]),\n",
    "    array(((1, 2), (3, 4.))),\n",
    "    array([[0], 1]),\n",
    "    array('Hello world')\n",
    "]\n",
    "for a in arrays:\n",
    "    print('{0.dtype}: {0}'.format(a))"
   ]
  },
  {
   "cell_type": "markdown",
   "metadata": {
    "slideshow": {
     "slide_type": "fragment"
    }
   },
   "source": [
    "Interesting thing: we explored new types!\n",
    "\n",
    "Type `object` is used when we cannot say for sure that we have `n`-dimensional array of numbers"
   ]
  },
  {
   "cell_type": "markdown",
   "metadata": {
    "slideshow": {
     "slide_type": "slide"
    }
   },
   "source": [
    "# Operations on arrays\n",
    "\n",
    "You can simply apply elementwise operations"
   ]
  },
  {
   "cell_type": "code",
   "execution_count": 24,
   "metadata": {
    "collapsed": false
   },
   "outputs": [
    {
     "name": "stdout",
     "output_type": "stream",
     "text": [
      "Arighmetic\n",
      "[0 1 2 3] +  [4 5 6 7] = [ 4  6  8 10]\n",
      "[0 1 2 3] *  [4 5 6 7] = [ 0  5 12 21]\n",
      "[0 1 2 3] ** [4 5 6 7] = [   0    1   64 2187]\n",
      "[0 1 2 3] /  [4 5 6 7] = [ 0.          0.2         0.33333333  0.42857143]\n",
      "Binary\n",
      "[0 1 2 3] ^  [4 5 6 7] = [4 4 4 4]\n",
      "[0 1 2 3] |  [4 5 6 7] = [4 5 6 7]\n",
      "[0 1 2 3] &  [4 5 6 7] = [0 1 2 3]\n"
     ]
    }
   ],
   "source": [
    "LENGTH = 4\n",
    "a, b = array(range(LENGTH)), array(range(LENGTH, LENGTH*2))\n",
    "print('Arighmetic')\n",
    "print('{} +  {} = {}'.format(a, b, a + b))\n",
    "print('{} *  {} = {}'.format(a, b, a * b))\n",
    "print('{} ** {} = {}'.format(a, b, a ** b))\n",
    "print('{} /  {} = {}'.format(a, b, a / b))\n",
    "print('Binary')\n",
    "print('{} ^  {} = {}'.format(a, b, a ^ b))\n",
    "print('{} |  {} = {}'.format(a, b, a | b))\n",
    "print('{} &  {} = {}'.format(a, b, a & b))"
   ]
  },
  {
   "cell_type": "markdown",
   "metadata": {
    "slideshow": {
     "slide_type": "slide"
    }
   },
   "source": [
    "# Indexing\n",
    "\n",
    "Indexing of NumPy arrays is very agile\n",
    "\n",
    "Just look on entitites which can be used as an index\n",
    "- boolean arrays;\n",
    "- integer arrays;\n",
    "- numbers;\n",
    "- Ellipsis;\n",
    "- tuples of them;\n",
    "- etc."
   ]
  },
  {
   "cell_type": "markdown",
   "metadata": {
    "slideshow": {
     "slide_type": "subslide"
    }
   },
   "source": [
    "## Integers array\n",
    "\n",
    "You can get values from array by `iterable` (but not tuples) of indices"
   ]
  },
  {
   "cell_type": "code",
   "execution_count": 53,
   "metadata": {
    "collapsed": false
   },
   "outputs": [
    {
     "name": "stdout",
     "output_type": "stream",
     "text": [
      "Indexed by [1, 5, 8]     : [1 5 8]\n",
      "Indexed by range(1, 6, 2): [1 3 5]\n",
      "Indexed by [ 8  2  0 -1] : [8 2 0 9]\n"
     ]
    }
   ],
   "source": [
    "arr = array(range(10))\n",
    "indices_list = [\n",
    "    [1, 5, 8],\n",
    "    range(1, 6, 2),\n",
    "    array([8, 2, 0, -1])\n",
    "]\n",
    "\n",
    "for indices in indices_list:\n",
    "    print('Indexed by {:<14}: {}'.format(str(indices), arr[indices]))"
   ]
  },
  {
   "cell_type": "markdown",
   "metadata": {
    "slideshow": {
     "slide_type": "subslide"
    }
   },
   "source": [
    "## Boolean array\n",
    "\n",
    "Boolean arrays can be result of comparison and syntax of its usage is very handy"
   ]
  },
  {
   "cell_type": "code",
   "execution_count": 64,
   "metadata": {
    "collapsed": false
   },
   "outputs": [
    {
     "name": "stdout",
     "output_type": "stream",
     "text": [
      "Items more than 2: [False False False  True  True]\n",
      "[3 4]\n"
     ]
    }
   ],
   "source": [
    "arr = array(range(5))\n",
    "\n",
    "print('Items more than 2:', arr > 2)\n",
    "print(arr[arr>2])"
   ]
  },
  {
   "cell_type": "markdown",
   "metadata": {
    "slideshow": {
     "slide_type": "fragment"
    }
   },
   "source": [
    "This can be read as \"Give me the numbers which are greater than two\""
   ]
  },
  {
   "cell_type": "markdown",
   "metadata": {
    "slideshow": {
     "slide_type": "subslide"
    }
   },
   "source": [
    "What you actually asked for\n",
    "- get elementwise comparison of array with scalar\n",
    "- provide me with array of results\n",
    "- fetch elements from the array, which are correspond to `True`\n",
    "\n",
    "This means that you can use another array to get values from this one"
   ]
  },
  {
   "cell_type": "code",
   "execution_count": 61,
   "metadata": {
    "collapsed": false
   },
   "outputs": [
    {
     "name": "stdout",
     "output_type": "stream",
     "text": [
      "[3 4]\n"
     ]
    }
   ],
   "source": [
    "a, b = array(range(0, 5)), array(range(5, 10))\n",
    "\n",
    "print(a[b>7])"
   ]
  },
  {
   "cell_type": "markdown",
   "metadata": {},
   "source": [
    "This gives you elements from array `a`, corresponding elements from `b` of which are greater than `7`"
   ]
  }
 ],
 "metadata": {
  "celltoolbar": "Slideshow",
  "kernelspec": {
   "display_name": "Python 3",
   "language": "python",
   "name": "python3"
  },
  "language_info": {
   "codemirror_mode": {
    "name": "ipython",
    "version": 3
   },
   "file_extension": ".py",
   "mimetype": "text/x-python",
   "name": "python",
   "nbconvert_exporter": "python",
   "pygments_lexer": "ipython3",
   "version": "3.5.1"
  },
  "widgets": {
   "state": {},
   "version": "1.1.2"
  }
 },
 "nbformat": 4,
 "nbformat_minor": 0
}
